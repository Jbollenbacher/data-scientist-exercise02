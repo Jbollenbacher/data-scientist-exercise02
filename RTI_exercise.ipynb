{
 "cells": [
  {
   "cell_type": "markdown",
   "metadata": {
    "id": "bhpDsY45ODak"
   },
   "source": [
    "# fetch data, install packages, load packages"
   ]
  },
  {
   "cell_type": "code",
   "execution_count": null,
   "metadata": {
    "colab": {
     "base_uri": "https://localhost:8080/"
    },
    "id": "TGvEOmwjNJ8r",
    "outputId": "2f5360d0-5dfe-4498-e6dc-397fef90d8df"
   },
   "outputs": [],
   "source": [
    "# !git clone https://github.com/Jbollenbacher/data-scientist-exercise02.git\n",
    "# !pip install pandas sklearn umap-learn sentence-transformers matplotlib hdbscan"
   ]
  },
  {
   "cell_type": "code",
   "execution_count": null,
   "metadata": {
    "id": "S28KJCWfNysf"
   },
   "outputs": [],
   "source": [
    "import json\n",
    "import pandas as pd\n",
    "import numpy as np\n",
    "import os\n",
    "from collections import Counter"
   ]
  },
  {
   "cell_type": "code",
   "execution_count": null,
   "metadata": {
    "id": "fU1JzIeYN6WF"
   },
   "outputs": [],
   "source": [
    "from sklearn.feature_extraction.text import TfidfVectorizer, CountVectorizer #common bag of words models\n",
    "from sentence_transformers import SentenceTransformer # a deep-learning-based model"
   ]
  },
  {
   "cell_type": "markdown",
   "metadata": {
    "id": "rpRVcyz0OJqg"
   },
   "source": [
    "# Load data"
   ]
  },
  {
   "cell_type": "code",
   "execution_count": null,
   "metadata": {
    "id": "DMA8BsBeN9Kl"
   },
   "outputs": [],
   "source": [
    "#load aviation data table\n",
    "\n",
    "av = pd.read_csv('./data-scientist-exercise02/data/AviationData.csv')\n",
    "\n",
    "for col in av.columns:  #convert all date columns to datetimes\n",
    "    if 'Date' in col: av[col] = pd.to_datetime(av[col])  "
   ]
  },
  {
   "cell_type": "code",
   "execution_count": null,
   "metadata": {
    "colab": {
     "base_uri": "https://localhost:8080/"
    },
    "id": "Xp8N4qFBON1E",
    "outputId": "87b25de1-0f13-45f8-b28a-00a0d95d0a40"
   },
   "outputs": [
    {
     "name": "stdout",
     "output_type": "stream",
     "text": [
      "<class 'pandas.core.frame.DataFrame'>\n",
      "RangeIndex: 76133 entries, 0 to 76132\n",
      "Data columns (total 3 columns):\n",
      " #   Column          Non-Null Count  Dtype \n",
      "---  ------          --------------  ----- \n",
      " 0   EventId         76133 non-null  object\n",
      " 1   narrative       76133 non-null  object\n",
      " 2   probable_cause  76133 non-null  object\n",
      "dtypes: object(3)\n",
      "memory usage: 1.7+ MB\n"
     ]
    }
   ],
   "source": [
    "# load narratives data\n",
    "\n",
    "files = os.listdir('./data-scientist-exercise02/data/') #get all files in data directory\n",
    "files = [f for f in files if 'NarrativeData' in f] #keep only narrative jsons\n",
    "\n",
    "narratives = list()\n",
    "for f in files: \n",
    "    narratives += json.load(open('./data-scientist-exercise02/data/'+f, 'rb'))['data'] #load each file, add all events to narratives list\n",
    "    \n",
    "narratives = pd.DataFrame(narratives) #convert list of dicts to pandas df\n",
    "narratives.info()"
   ]
  },
  {
   "cell_type": "code",
   "execution_count": null,
   "metadata": {
    "id": "CtczgzCFOkys"
   },
   "outputs": [],
   "source": [
    "#merge/join tables\n",
    "df = av.merge(right = narratives, on = 'EventId', how='inner') #add narratives to av data\n",
    "df = df[df['narrative']!=''] #drop null entries "
   ]
  },
  {
   "cell_type": "markdown",
   "metadata": {
    "id": "MYhyIjB2OxzP"
   },
   "source": [
    "# initial text cleaning and inspection"
   ]
  },
  {
   "cell_type": "code",
   "execution_count": null,
   "metadata": {
    "colab": {
     "base_uri": "https://localhost:8080/"
    },
    "id": "rj4rnuDNO-mX",
    "outputId": "4d681b62-90b4-4ae6-cc80-73d8f9de771c"
   },
   "outputs": [
    {
     "name": "stderr",
     "output_type": "stream",
     "text": [
      "/usr/local/lib/python3.7/dist-packages/ipykernel_launcher.py:2: SettingWithCopyWarning: \n",
      "A value is trying to be set on a copy of a slice from a DataFrame.\n",
      "Try using .loc[row_indexer,col_indexer] = value instead\n",
      "\n",
      "See the caveats in the documentation: https://pandas.pydata.org/pandas-docs/stable/user_guide/indexing.html#returning-a-view-versus-a-copy\n",
      "  \n"
     ]
    }
   ],
   "source": [
    "#seperate first sentence from narrative.  it concerns only evidence sources, not probable causes\n",
    "df['evidence_statement'] = df['narrative'].apply(lambda x: x.split('.', 1)[0])\n",
    "df['narrative'] = df['narrative'].apply(lambda x: '.'.join(x.split('.')[1:]))"
   ]
  },
  {
   "cell_type": "code",
   "execution_count": null,
   "metadata": {
    "colab": {
     "base_uri": "https://localhost:8080/",
     "height": 140
    },
    "id": "n7lzp4z5OupH",
    "outputId": "482c5cc0-cb31-4b4d-d706-d5e400aafab7"
   },
   "outputs": [
    {
     "data": {
      "application/vnd.google.colaboratory.intrinsic+json": {
       "type": "string"
      },
      "text/plain": [
       "\"TWO AIRPLANES WERE CONVERGING HEAD-ON WHILE TAXIING ON THE SAME EAST-WEST TAXIWAY. THE PILOT OF THE CESSNA 182 WAS TAXIING EAST AND SAW THE TAILWHEEL EQUIPPED GREAT LAKES 2T-1AK (BIPLANE) 'S-TURNING' ON THE TAXIWAY. SHE ASSUMED THE BIPLANE PILOT SAW HER AIRCRAFT. AS THE TWO AIRPLANES GOT CLOSER, THE CESSNA PILOT SLOWED AND MOVED TO THE RIGHT SIDE OF THE TAXIWAY, SO THE AIRPLANES COULD PASS WING TIP TO WING TIP. THE WESTBOUND BIPLANE THEN 'S-TURNED' LEFT TOWARDS THE CESSNA. THE CESSNA PILOT IMMEDIATELY VEERED RIGHT AND TAXIED OFF THE PAVEMENT INTO THE DIRT, BUT THE AIRPLANES COLLIDED. AFTER THE COLLISION, THE WESTBOUND BIPLANE PILOT STATED TO AIRPORT OFFICIALS THAT HE NEVER SAW THE CESSNA. THE SUN WAS SETTING AT THE TIME OF THE COLLISION. \""
      ]
     },
     "execution_count": 9,
     "metadata": {},
     "output_type": "execute_result"
    }
   ],
   "source": [
    "#manually inspect a sample text. repeat as needed\n",
    "df['narrative'].sample(1).reset_index(drop=True).iloc[0]"
   ]
  },
  {
   "cell_type": "code",
   "execution_count": null,
   "metadata": {
    "id": "uN7Mpr-CPICl"
   },
   "outputs": [],
   "source": [
    "#standardize common abbreviations, acronyms, names\n",
    "\n",
    "aliases = { # manually created a list of common abbreviations by inspecting the data \n",
    "        'federal aviation administration': 'faa', \n",
    "        'flt': 'flight',\n",
    "        'hrs':'hours',\n",
    "        'plt':'pilot',\n",
    "        '&':'and',\n",
    "        'acft':'aircraft',\n",
    "        ' rnw':' runway',\n",
    "        'feet':'ft',\n",
    "        'ldg':'landing',\n",
    "        'lndg': 'landing',\n",
    "        'dept':'department',\n",
    "        ' agl': ' above ground level',\n",
    "        ' abt':' about',\n",
    "        'aprx': 'approximately',\n",
    "        'Approx': 'approximately',\n",
    "         }\n",
    "\n",
    "def replace_aliases_in_text(text, aliases):\n",
    "    for k in aliases.keys():\n",
    "        text = text.replace(k, aliases[k])\n",
    "    return text\n",
    "\n",
    "df['narrative'] = df['narrative'].apply(lambda x: replace_aliases_in_text(x.lower(), aliases))"
   ]
  },
  {
   "cell_type": "code",
   "execution_count": null,
   "metadata": {
    "colab": {
     "base_uri": "https://localhost:8080/",
     "height": 1000
    },
    "id": "6PNhjE24PK8o",
    "outputId": "b42a1c21-d2e8-40aa-cc72-583bb8aa29b9"
   },
   "outputs": [
    {
     "name": "stdout",
     "output_type": "stream",
     "text": [
      "<class 'pandas.core.frame.DataFrame'>\n",
      "Int64Index: 77026 entries, 1 to 77256\n",
      "Data columns (total 34 columns):\n",
      " #   Column                Non-Null Count  Dtype         \n",
      "---  ------                --------------  -----         \n",
      " 0   EventId               77026 non-null  object        \n",
      " 1   InvestigationType     77026 non-null  object        \n",
      " 2   AccidentNumber        77026 non-null  object        \n",
      " 3   EventDate             77023 non-null  datetime64[ns]\n",
      " 4   Location              76945 non-null  object        \n",
      " 5   Country               76517 non-null  object        \n",
      " 6   Latitude              23722 non-null  float64       \n",
      " 7   Longitude             23713 non-null  float64       \n",
      " 8   AirportCode           43300 non-null  object        \n",
      " 9   AirportName           46027 non-null  object        \n",
      " 10  InjurySeverity        77021 non-null  object        \n",
      " 11  AircraftDamage        74747 non-null  object        \n",
      " 12  AircraftCategory      16496 non-null  object        \n",
      " 13  RegistrationNumber    74271 non-null  object        \n",
      " 14  Make                  76938 non-null  object        \n",
      " 15  Model                 76909 non-null  object        \n",
      " 16  AmateurBuilt          76473 non-null  object        \n",
      " 17  NumberOfEngines       73211 non-null  float64       \n",
      " 18  EngineType            73921 non-null  object        \n",
      " 19  FARDescription        16640 non-null  object        \n",
      " 20  Schedule              11366 non-null  object        \n",
      " 21  PurposeOfFlight       73533 non-null  object        \n",
      " 22  AirCarrier            3812 non-null   object        \n",
      " 23  TotalFatalInjuries    55697 non-null  float64       \n",
      " 24  TotalSeriousInjuries  53658 non-null  float64       \n",
      " 25  TotalMinorInjuries    54641 non-null  float64       \n",
      " 26  TotalUninjured        65752 non-null  float64       \n",
      " 27  WeatherCondition      75140 non-null  object        \n",
      " 28  BroadPhaseOfFlight    70917 non-null  object        \n",
      " 29  ReportStatus          77026 non-null  object        \n",
      " 30  PublicationDate       63965 non-null  datetime64[ns]\n",
      " 31  narrative             77026 non-null  object        \n",
      " 32  probable_cause        77026 non-null  object        \n",
      " 33  evidence_statement    77026 non-null  object        \n",
      "dtypes: datetime64[ns](2), float64(7), object(25)\n",
      "memory usage: 20.6+ MB\n"
     ]
    },
    {
     "data": {
      "text/html": [
       "\n",
       "  <div id=\"df-aef30f16-3bf6-44df-845f-2a67d96160db\">\n",
       "    <div class=\"colab-df-container\">\n",
       "      <div>\n",
       "<style scoped>\n",
       "    .dataframe tbody tr th:only-of-type {\n",
       "        vertical-align: middle;\n",
       "    }\n",
       "\n",
       "    .dataframe tbody tr th {\n",
       "        vertical-align: top;\n",
       "    }\n",
       "\n",
       "    .dataframe thead th {\n",
       "        text-align: right;\n",
       "    }\n",
       "</style>\n",
       "<table border=\"1\" class=\"dataframe\">\n",
       "  <thead>\n",
       "    <tr style=\"text-align: right;\">\n",
       "      <th></th>\n",
       "      <th>EventId</th>\n",
       "      <th>InvestigationType</th>\n",
       "      <th>AccidentNumber</th>\n",
       "      <th>EventDate</th>\n",
       "      <th>Location</th>\n",
       "      <th>Country</th>\n",
       "      <th>Latitude</th>\n",
       "      <th>Longitude</th>\n",
       "      <th>AirportCode</th>\n",
       "      <th>AirportName</th>\n",
       "      <th>InjurySeverity</th>\n",
       "      <th>AircraftDamage</th>\n",
       "      <th>AircraftCategory</th>\n",
       "      <th>RegistrationNumber</th>\n",
       "      <th>Make</th>\n",
       "      <th>Model</th>\n",
       "      <th>AmateurBuilt</th>\n",
       "      <th>NumberOfEngines</th>\n",
       "      <th>EngineType</th>\n",
       "      <th>FARDescription</th>\n",
       "      <th>Schedule</th>\n",
       "      <th>PurposeOfFlight</th>\n",
       "      <th>AirCarrier</th>\n",
       "      <th>TotalFatalInjuries</th>\n",
       "      <th>TotalSeriousInjuries</th>\n",
       "      <th>TotalMinorInjuries</th>\n",
       "      <th>TotalUninjured</th>\n",
       "      <th>WeatherCondition</th>\n",
       "      <th>BroadPhaseOfFlight</th>\n",
       "      <th>ReportStatus</th>\n",
       "      <th>PublicationDate</th>\n",
       "      <th>narrative</th>\n",
       "      <th>probable_cause</th>\n",
       "      <th>evidence_statement</th>\n",
       "    </tr>\n",
       "  </thead>\n",
       "  <tbody>\n",
       "    <tr>\n",
       "      <th>1</th>\n",
       "      <td>20150901X92332</td>\n",
       "      <td>Accident</td>\n",
       "      <td>CEN15LA392</td>\n",
       "      <td>2015-08-31</td>\n",
       "      <td>Houston, TX</td>\n",
       "      <td>United States</td>\n",
       "      <td>29.809444</td>\n",
       "      <td>-95.668889</td>\n",
       "      <td>IWS</td>\n",
       "      <td>WEST HOUSTON</td>\n",
       "      <td>Non-Fatal</td>\n",
       "      <td>Substantial</td>\n",
       "      <td>Airplane</td>\n",
       "      <td>N452CS</td>\n",
       "      <td>CESSNA</td>\n",
       "      <td>T240</td>\n",
       "      <td>No</td>\n",
       "      <td>NaN</td>\n",
       "      <td>NaN</td>\n",
       "      <td>Part 91: General Aviation</td>\n",
       "      <td>NaN</td>\n",
       "      <td>Instructional</td>\n",
       "      <td>NaN</td>\n",
       "      <td>NaN</td>\n",
       "      <td>NaN</td>\n",
       "      <td>NaN</td>\n",
       "      <td>2.0</td>\n",
       "      <td>VMC</td>\n",
       "      <td>LANDING</td>\n",
       "      <td>Preliminary</td>\n",
       "      <td>2015-09-04</td>\n",
       "      <td>the flight instructor and private pilot under...</td>\n",
       "      <td></td>\n",
       "      <td>On August 31, 2015, about 1230 central dayligh...</td>\n",
       "    </tr>\n",
       "    <tr>\n",
       "      <th>5</th>\n",
       "      <td>20150831X30510</td>\n",
       "      <td>Accident</td>\n",
       "      <td>WPR15LA253B</td>\n",
       "      <td>2015-08-28</td>\n",
       "      <td>Las Vegas, NV</td>\n",
       "      <td>United States</td>\n",
       "      <td>36.099444</td>\n",
       "      <td>-115.162500</td>\n",
       "      <td>LAS</td>\n",
       "      <td>McCarran International</td>\n",
       "      <td>Non-Fatal</td>\n",
       "      <td>Minor</td>\n",
       "      <td>Airplane</td>\n",
       "      <td>N187AA</td>\n",
       "      <td>DASSAULT</td>\n",
       "      <td>FALCON2000</td>\n",
       "      <td>No</td>\n",
       "      <td>2.0</td>\n",
       "      <td>Turbo Jet</td>\n",
       "      <td>Part 91: General Aviation</td>\n",
       "      <td>NaN</td>\n",
       "      <td>Business</td>\n",
       "      <td>NaN</td>\n",
       "      <td>NaN</td>\n",
       "      <td>NaN</td>\n",
       "      <td>NaN</td>\n",
       "      <td>5.0</td>\n",
       "      <td>VMC</td>\n",
       "      <td>STANDING</td>\n",
       "      <td>Preliminary</td>\n",
       "      <td>2015-09-03</td>\n",
       "      <td>the c90 sustained substantial damage, and the...</td>\n",
       "      <td></td>\n",
       "      <td>On August 28, 2015, about 1010 Pacific dayligh...</td>\n",
       "    </tr>\n",
       "  </tbody>\n",
       "</table>\n",
       "</div>\n",
       "      <button class=\"colab-df-convert\" onclick=\"convertToInteractive('df-aef30f16-3bf6-44df-845f-2a67d96160db')\"\n",
       "              title=\"Convert this dataframe to an interactive table.\"\n",
       "              style=\"display:none;\">\n",
       "        \n",
       "  <svg xmlns=\"http://www.w3.org/2000/svg\" height=\"24px\"viewBox=\"0 0 24 24\"\n",
       "       width=\"24px\">\n",
       "    <path d=\"M0 0h24v24H0V0z\" fill=\"none\"/>\n",
       "    <path d=\"M18.56 5.44l.94 2.06.94-2.06 2.06-.94-2.06-.94-.94-2.06-.94 2.06-2.06.94zm-11 1L8.5 8.5l.94-2.06 2.06-.94-2.06-.94L8.5 2.5l-.94 2.06-2.06.94zm10 10l.94 2.06.94-2.06 2.06-.94-2.06-.94-.94-2.06-.94 2.06-2.06.94z\"/><path d=\"M17.41 7.96l-1.37-1.37c-.4-.4-.92-.59-1.43-.59-.52 0-1.04.2-1.43.59L10.3 9.45l-7.72 7.72c-.78.78-.78 2.05 0 2.83L4 21.41c.39.39.9.59 1.41.59.51 0 1.02-.2 1.41-.59l7.78-7.78 2.81-2.81c.8-.78.8-2.07 0-2.86zM5.41 20L4 18.59l7.72-7.72 1.47 1.35L5.41 20z\"/>\n",
       "  </svg>\n",
       "      </button>\n",
       "      \n",
       "  <style>\n",
       "    .colab-df-container {\n",
       "      display:flex;\n",
       "      flex-wrap:wrap;\n",
       "      gap: 12px;\n",
       "    }\n",
       "\n",
       "    .colab-df-convert {\n",
       "      background-color: #E8F0FE;\n",
       "      border: none;\n",
       "      border-radius: 50%;\n",
       "      cursor: pointer;\n",
       "      display: none;\n",
       "      fill: #1967D2;\n",
       "      height: 32px;\n",
       "      padding: 0 0 0 0;\n",
       "      width: 32px;\n",
       "    }\n",
       "\n",
       "    .colab-df-convert:hover {\n",
       "      background-color: #E2EBFA;\n",
       "      box-shadow: 0px 1px 2px rgba(60, 64, 67, 0.3), 0px 1px 3px 1px rgba(60, 64, 67, 0.15);\n",
       "      fill: #174EA6;\n",
       "    }\n",
       "\n",
       "    [theme=dark] .colab-df-convert {\n",
       "      background-color: #3B4455;\n",
       "      fill: #D2E3FC;\n",
       "    }\n",
       "\n",
       "    [theme=dark] .colab-df-convert:hover {\n",
       "      background-color: #434B5C;\n",
       "      box-shadow: 0px 1px 3px 1px rgba(0, 0, 0, 0.15);\n",
       "      filter: drop-shadow(0px 1px 2px rgba(0, 0, 0, 0.3));\n",
       "      fill: #FFFFFF;\n",
       "    }\n",
       "  </style>\n",
       "\n",
       "      <script>\n",
       "        const buttonEl =\n",
       "          document.querySelector('#df-aef30f16-3bf6-44df-845f-2a67d96160db button.colab-df-convert');\n",
       "        buttonEl.style.display =\n",
       "          google.colab.kernel.accessAllowed ? 'block' : 'none';\n",
       "\n",
       "        async function convertToInteractive(key) {\n",
       "          const element = document.querySelector('#df-aef30f16-3bf6-44df-845f-2a67d96160db');\n",
       "          const dataTable =\n",
       "            await google.colab.kernel.invokeFunction('convertToInteractive',\n",
       "                                                     [key], {});\n",
       "          if (!dataTable) return;\n",
       "\n",
       "          const docLinkHtml = 'Like what you see? Visit the ' +\n",
       "            '<a target=\"_blank\" href=https://colab.research.google.com/notebooks/data_table.ipynb>data table notebook</a>'\n",
       "            + ' to learn more about interactive tables.';\n",
       "          element.innerHTML = '';\n",
       "          dataTable['output_type'] = 'display_data';\n",
       "          await google.colab.output.renderOutput(dataTable, element);\n",
       "          const docLink = document.createElement('div');\n",
       "          docLink.innerHTML = docLinkHtml;\n",
       "          element.appendChild(docLink);\n",
       "        }\n",
       "      </script>\n",
       "    </div>\n",
       "  </div>\n",
       "  "
      ],
      "text/plain": [
       "          EventId  ...                                 evidence_statement\n",
       "1  20150901X92332  ...  On August 31, 2015, about 1230 central dayligh...\n",
       "5  20150831X30510  ...  On August 28, 2015, about 1010 Pacific dayligh...\n",
       "\n",
       "[2 rows x 34 columns]"
      ]
     },
     "execution_count": 11,
     "metadata": {},
     "output_type": "execute_result"
    }
   ],
   "source": [
    "df.info()\n",
    "df.head(2)"
   ]
  },
  {
   "cell_type": "markdown",
   "metadata": {
    "id": "wKqWOEnVPTns"
   },
   "source": [
    "# explore some summary stats"
   ]
  },
  {
   "cell_type": "code",
   "execution_count": null,
   "metadata": {
    "id": "RWnYDG-rPR0B"
   },
   "outputs": [],
   "source": [
    "from sklearn.feature_extraction.text import ENGLISH_STOP_WORDS"
   ]
  },
  {
   "cell_type": "code",
   "execution_count": null,
   "metadata": {
    "id": "lm0FANJNPiF3"
   },
   "outputs": [],
   "source": [
    "#define a helper function\n",
    "def get_word_freq_dict(text):\n",
    "    wordlist = text.split()\n",
    "    wordfreq = Counter(wordlist)\n",
    "    return wordfreq"
   ]
  },
  {
   "cell_type": "code",
   "execution_count": 45,
   "metadata": {
    "colab": {
     "base_uri": "https://localhost:8080/"
    },
    "id": "WUKo9ha8PXW7",
    "outputId": "a854f459-890a-4b89-d831-b9041617e60f"
   },
   "outputs": [
    {
     "name": "stdout",
     "output_type": "stream",
     "text": [
      "mean 125.02924669574843\n",
      "median 104.0\n",
      "fraction <500 0.9923823165570675\n",
      "fraction <200 0.8704342730646526\n"
     ]
    }
   ],
   "source": [
    "# Check wordcounts of texts\n",
    "\n",
    "narrative_wordcounts = df['narrative'].apply(lambda x: len(x.split(' ')))\n",
    "print('mean',narrative_wordcounts.mean())\n",
    "print('median',narrative_wordcounts.median())\n",
    "print('fraction <500', (narrative_wordcounts < 500).sum()/len(narrative_wordcounts))\n",
    "print('fraction <200', (narrative_wordcounts < 200).sum()/len(narrative_wordcounts))"
   ]
  },
  {
   "cell_type": "markdown",
   "metadata": {
    "id": "oiNuBjI1PjuF"
   },
   "source": [
    "**Conclusion**: texts are almost all short \n",
    "\n",
    "This suggests transformer-based embeddings may be appropriate."
   ]
  },
  {
   "cell_type": "code",
   "execution_count": null,
   "metadata": {
    "colab": {
     "base_uri": "https://localhost:8080/",
     "height": 519
    },
    "id": "6TdrniZPPpNz",
    "outputId": "9788fe70-c533-4dd8-94d3-6fc6d3daec20"
   },
   "outputs": [
    {
     "name": "stdout",
     "output_type": "stream",
     "text": [
      "<class 'pandas.core.frame.DataFrame'>\n",
      "RangeIndex: 141970 entries, 0 to 141969\n",
      "Data columns (total 2 columns):\n",
      " #   Column  Non-Null Count   Dtype \n",
      "---  ------  --------------   ----- \n",
      " 0   word    141970 non-null  object\n",
      " 1   count   141970 non-null  int64 \n",
      "dtypes: int64(1), object(1)\n",
      "memory usage: 2.2+ MB\n"
     ]
    },
    {
     "data": {
      "text/html": [
       "\n",
       "  <div id=\"df-b8b606ba-129e-4d81-97db-236adecbafe7\">\n",
       "    <div class=\"colab-df-container\">\n",
       "      <div>\n",
       "<style scoped>\n",
       "    .dataframe tbody tr th:only-of-type {\n",
       "        vertical-align: middle;\n",
       "    }\n",
       "\n",
       "    .dataframe tbody tr th {\n",
       "        vertical-align: top;\n",
       "    }\n",
       "\n",
       "    .dataframe thead th {\n",
       "        text-align: right;\n",
       "    }\n",
       "</style>\n",
       "<table border=\"1\" class=\"dataframe\">\n",
       "  <thead>\n",
       "    <tr style=\"text-align: right;\">\n",
       "      <th></th>\n",
       "      <th>word</th>\n",
       "      <th>count</th>\n",
       "    </tr>\n",
       "  </thead>\n",
       "  <tbody>\n",
       "    <tr>\n",
       "      <th>0</th>\n",
       "      <td>pilot</td>\n",
       "      <td>145235</td>\n",
       "    </tr>\n",
       "    <tr>\n",
       "      <th>1</th>\n",
       "      <td>airplane</td>\n",
       "      <td>104788</td>\n",
       "    </tr>\n",
       "    <tr>\n",
       "      <th>2</th>\n",
       "      <td>aircraft</td>\n",
       "      <td>61914</td>\n",
       "    </tr>\n",
       "    <tr>\n",
       "      <th>3</th>\n",
       "      <td>engine</td>\n",
       "      <td>55174</td>\n",
       "    </tr>\n",
       "    <tr>\n",
       "      <th>4</th>\n",
       "      <td>landing</td>\n",
       "      <td>52916</td>\n",
       "    </tr>\n",
       "    <tr>\n",
       "      <th>5</th>\n",
       "      <td>flight</td>\n",
       "      <td>50984</td>\n",
       "    </tr>\n",
       "    <tr>\n",
       "      <th>6</th>\n",
       "      <td>fuel</td>\n",
       "      <td>42399</td>\n",
       "    </tr>\n",
       "    <tr>\n",
       "      <th>7</th>\n",
       "      <td>left</td>\n",
       "      <td>41691</td>\n",
       "    </tr>\n",
       "    <tr>\n",
       "      <th>8</th>\n",
       "      <td>reported</td>\n",
       "      <td>39592</td>\n",
       "    </tr>\n",
       "    <tr>\n",
       "      <th>9</th>\n",
       "      <td>right</td>\n",
       "      <td>35235</td>\n",
       "    </tr>\n",
       "  </tbody>\n",
       "</table>\n",
       "</div>\n",
       "      <button class=\"colab-df-convert\" onclick=\"convertToInteractive('df-b8b606ba-129e-4d81-97db-236adecbafe7')\"\n",
       "              title=\"Convert this dataframe to an interactive table.\"\n",
       "              style=\"display:none;\">\n",
       "        \n",
       "  <svg xmlns=\"http://www.w3.org/2000/svg\" height=\"24px\"viewBox=\"0 0 24 24\"\n",
       "       width=\"24px\">\n",
       "    <path d=\"M0 0h24v24H0V0z\" fill=\"none\"/>\n",
       "    <path d=\"M18.56 5.44l.94 2.06.94-2.06 2.06-.94-2.06-.94-.94-2.06-.94 2.06-2.06.94zm-11 1L8.5 8.5l.94-2.06 2.06-.94-2.06-.94L8.5 2.5l-.94 2.06-2.06.94zm10 10l.94 2.06.94-2.06 2.06-.94-2.06-.94-.94-2.06-.94 2.06-2.06.94z\"/><path d=\"M17.41 7.96l-1.37-1.37c-.4-.4-.92-.59-1.43-.59-.52 0-1.04.2-1.43.59L10.3 9.45l-7.72 7.72c-.78.78-.78 2.05 0 2.83L4 21.41c.39.39.9.59 1.41.59.51 0 1.02-.2 1.41-.59l7.78-7.78 2.81-2.81c.8-.78.8-2.07 0-2.86zM5.41 20L4 18.59l7.72-7.72 1.47 1.35L5.41 20z\"/>\n",
       "  </svg>\n",
       "      </button>\n",
       "      \n",
       "  <style>\n",
       "    .colab-df-container {\n",
       "      display:flex;\n",
       "      flex-wrap:wrap;\n",
       "      gap: 12px;\n",
       "    }\n",
       "\n",
       "    .colab-df-convert {\n",
       "      background-color: #E8F0FE;\n",
       "      border: none;\n",
       "      border-radius: 50%;\n",
       "      cursor: pointer;\n",
       "      display: none;\n",
       "      fill: #1967D2;\n",
       "      height: 32px;\n",
       "      padding: 0 0 0 0;\n",
       "      width: 32px;\n",
       "    }\n",
       "\n",
       "    .colab-df-convert:hover {\n",
       "      background-color: #E2EBFA;\n",
       "      box-shadow: 0px 1px 2px rgba(60, 64, 67, 0.3), 0px 1px 3px 1px rgba(60, 64, 67, 0.15);\n",
       "      fill: #174EA6;\n",
       "    }\n",
       "\n",
       "    [theme=dark] .colab-df-convert {\n",
       "      background-color: #3B4455;\n",
       "      fill: #D2E3FC;\n",
       "    }\n",
       "\n",
       "    [theme=dark] .colab-df-convert:hover {\n",
       "      background-color: #434B5C;\n",
       "      box-shadow: 0px 1px 3px 1px rgba(0, 0, 0, 0.15);\n",
       "      filter: drop-shadow(0px 1px 2px rgba(0, 0, 0, 0.3));\n",
       "      fill: #FFFFFF;\n",
       "    }\n",
       "  </style>\n",
       "\n",
       "      <script>\n",
       "        const buttonEl =\n",
       "          document.querySelector('#df-b8b606ba-129e-4d81-97db-236adecbafe7 button.colab-df-convert');\n",
       "        buttonEl.style.display =\n",
       "          google.colab.kernel.accessAllowed ? 'block' : 'none';\n",
       "\n",
       "        async function convertToInteractive(key) {\n",
       "          const element = document.querySelector('#df-b8b606ba-129e-4d81-97db-236adecbafe7');\n",
       "          const dataTable =\n",
       "            await google.colab.kernel.invokeFunction('convertToInteractive',\n",
       "                                                     [key], {});\n",
       "          if (!dataTable) return;\n",
       "\n",
       "          const docLinkHtml = 'Like what you see? Visit the ' +\n",
       "            '<a target=\"_blank\" href=https://colab.research.google.com/notebooks/data_table.ipynb>data table notebook</a>'\n",
       "            + ' to learn more about interactive tables.';\n",
       "          element.innerHTML = '';\n",
       "          dataTable['output_type'] = 'display_data';\n",
       "          await google.colab.output.renderOutput(dataTable, element);\n",
       "          const docLink = document.createElement('div');\n",
       "          docLink.innerHTML = docLinkHtml;\n",
       "          element.appendChild(docLink);\n",
       "        }\n",
       "      </script>\n",
       "    </div>\n",
       "  </div>\n",
       "  "
      ],
      "text/plain": [
       "       word   count\n",
       "0     pilot  145235\n",
       "1  airplane  104788\n",
       "2  aircraft   61914\n",
       "3    engine   55174\n",
       "4   landing   52916\n",
       "5    flight   50984\n",
       "6      fuel   42399\n",
       "7      left   41691\n",
       "8  reported   39592\n",
       "9     right   35235"
      ]
     },
     "execution_count": 15,
     "metadata": {},
     "output_type": "execute_result"
    }
   ],
   "source": [
    "#explore most common words\n",
    "\n",
    "all_texts = '\\n'.join(list(df['narrative'])) #combine all narratives to single string\n",
    "word_freqs = get_word_freq_dict(all_texts) # get word counts\n",
    "word_freqs = {k:word_freqs[k] for k in word_freqs.keys() if k not in ENGLISH_STOP_WORDS} #remove stopwords\n",
    "word_freqs = pd.DataFrame(list(zip(word_freqs.keys(),word_freqs.values())), columns = ['word','count']) #to dataframe\n",
    "word_freqs = word_freqs.sort_values(by='count', ascending=False).reset_index(drop=True) #show most common words\n",
    "word_freqs.info()\n",
    "word_freqs.head(10)"
   ]
  },
  {
   "cell_type": "markdown",
   "metadata": {
    "id": "lqnl7RO9PyT_"
   },
   "source": [
    "**Conclusion**: vocab is very large\n",
    "\n",
    "This suggests many unique words, e.g. proper nouns, typos, nonstandard abreviations. Adds to noise in any analysis.\n",
    "\n",
    "**Conclusion**:  top ~100 words dont look super informative.\n",
    "\n",
    "This suggest low dimensional bag of words embeddings may fail"
   ]
  },
  {
   "cell_type": "markdown",
   "metadata": {
    "id": "pQuG5XnQP3KH"
   },
   "source": [
    "# produce text embeddings \n",
    "\n",
    "create BERT, TFIDF, and word-count embeddings for each narrative"
   ]
  },
  {
   "cell_type": "code",
   "execution_count": null,
   "metadata": {
    "id": "1wDBKA2AQ9_x"
   },
   "outputs": [],
   "source": [
    "import torch #supports SentenceTransformer usage\n",
    "torch.cuda.is_available()"
   ]
  },
  {
   "cell_type": "code",
   "execution_count": null,
   "metadata": {
    "id": "tSZDBCcjP9On"
   },
   "outputs": [],
   "source": [
    "#make BERT embeddings. warning, very slow. 10min on GPU, much longer on CPU\n",
    "bert_model = SentenceTransformer('stsb-distilbert-base')\n",
    "bert_embs = bert_model.encode(list(df['narrative']), \n",
    "                                   show_progress_bar=True, \n",
    "                                   device = torch.device('cuda'))#delete this param if cuda unavailable\n",
    "df['bert_emb'] = list(bert_embs)"
   ]
  },
  {
   "cell_type": "code",
   "execution_count": null,
   "metadata": {
    "id": "vudyFQpkcphN"
   },
   "outputs": [],
   "source": [
    "#make rawcount embeddings. \n",
    "rawcount_model = CountVectorizer(ngram_range=(1,1), stop_words = 'english', max_features=750) \n",
    "rawcount_embs = rawcount_model.fit_transform(list(df['narrative']))\n",
    "df['rawcount_emb'] = pd.Series(list(rawcount_embs)).apply(lambda x: x.toarray().flatten())"
   ]
  },
  {
   "cell_type": "code",
   "execution_count": null,
   "metadata": {
    "id": "GL5-rk8PP7M5"
   },
   "outputs": [],
   "source": [
    "#make tfidf embeddings\n",
    "tfidf_model = TfidfVectorizer(ngram_range=(1,1), stop_words = 'english', max_features=750) \n",
    "tfidf_embs = tfidf_model.fit_transform(list(df['narrative']))\n",
    "df['tfidf_emb'] = pd.Series(list(tfidf_embs)).apply(lambda x: x.toarray().flatten())"
   ]
  },
  {
   "cell_type": "code",
   "execution_count": null,
   "metadata": {
    "id": "u0UjRMFmQAHr"
   },
   "outputs": [],
   "source": [
    "df.to_parquet('./drive/MyDrive/df_with_embs.parquet')"
   ]
  },
  {
   "cell_type": "markdown",
   "metadata": {
    "id": "TEJp0eFlcj5O"
   },
   "source": [
    "# project and cluster text embeddings"
   ]
  },
  {
   "cell_type": "markdown",
   "metadata": {
    "id": "2p1l7WZI30w7"
   },
   "source": [
    "###initial projection and inspection of different embeddings\n",
    "\n",
    "project down to 2d using umap to visualize"
   ]
  },
  {
   "cell_type": "code",
   "execution_count": null,
   "metadata": {
    "id": "Rowlfnewc68w"
   },
   "outputs": [],
   "source": [
    "import umap\n",
    "import matplotlib.pyplot as plt\n",
    "import hdbscan"
   ]
  },
  {
   "cell_type": "code",
   "execution_count": null,
   "metadata": {
    "id": "Wy615n4Lf9jv"
   },
   "outputs": [],
   "source": [
    "df = pd.read_parquet('./drive/MyDrive/df_with_embs.parquet')\n",
    "df = df[~df['tfidf_emb'].isna()] #drops empty-string and whitespace narratives"
   ]
  },
  {
   "cell_type": "code",
   "execution_count": 20,
   "metadata": {
    "colab": {
     "base_uri": "https://localhost:8080/",
     "height": 282
    },
    "id": "qzU1-tK4P95B",
    "outputId": "32b2e5a4-f425-4587-95a4-806375c58470"
   },
   "outputs": [
    {
     "data": {
      "text/plain": [
       "<matplotlib.collections.PathCollection at 0x7f8cc33dcc10>"
      ]
     },
     "execution_count": 20,
     "metadata": {},
     "output_type": "execute_result"
    },
    {
     "data": {
      "image/png": "[encoded data removed]",
      "text/plain": [
       "<Figure size 432x288 with 1 Axes>"
      ]
     },
     "metadata": {
      "needs_background": "light"
     },
     "output_type": "display_data"
    }
   ],
   "source": [
    "# project and visualize bert embeddings\n",
    "umap_model = umap.UMAP(n_neighbors=7, n_components=2)\n",
    "bert_emb_umap_proj = umap_model.fit_transform(np.array(list(df['bert_emb'])))\n",
    "plt.scatter(bert_emb_umap_proj[:,0], bert_emb_umap_proj[:,1], alpha=0.05)"
   ]
  },
  {
   "cell_type": "code",
   "execution_count": null,
   "metadata": {
    "colab": {
     "base_uri": "https://localhost:8080/",
     "height": 282
    },
    "id": "Cxn0GgBU0vpJ",
    "outputId": "8be1afa8-18ef-4ca1-9273-c379a419d9eb"
   },
   "outputs": [
    {
     "data": {
      "text/plain": [
       "<matplotlib.collections.PathCollection at 0x7fb30d1ac150>"
      ]
     },
     "execution_count": 43,
     "metadata": {},
     "output_type": "execute_result"
    },
    {
     "data": {
      "image/png": "[encoded data removed]",
      "text/plain": [
       "<Figure size 432x288 with 1 Axes>"
      ]
     },
     "metadata": {
      "needs_background": "light"
     },
     "output_type": "display_data"
    }
   ],
   "source": [
    "# project and visualize wordcount embeddings\n",
    "umap_model = umap.UMAP(n_neighbors=7, n_components=2)\n",
    "rawcount_emb_umap_proj = umap_model.fit_transform(np.array(list(df['rawcount_emb'].dropna())))\n",
    "plt.scatter(rawcount_emb_umap_proj[:,0], rawcount_emb_umap_proj[:,1], alpha=0.05)"
   ]
  },
  {
   "cell_type": "code",
   "execution_count": null,
   "metadata": {
    "colab": {
     "base_uri": "https://localhost:8080/",
     "height": 337
    },
    "id": "eHTkaW9u0vyR",
    "outputId": "c62123fa-81d0-47bf-8695-c42cc8fbd6d0"
   },
   "outputs": [
    {
     "name": "stderr",
     "output_type": "stream",
     "text": [
      "/usr/local/lib/python3.7/dist-packages/numba/np/ufunc/parallel.py:363: NumbaWarning: The TBB threading layer requires TBB version 2019.5 or later i.e., TBB_INTERFACE_VERSION >= 11005. Found TBB_INTERFACE_VERSION = 9107. The TBB threading layer is disabled.\n",
      "  warnings.warn(problem)\n"
     ]
    },
    {
     "data": {
      "text/plain": [
       "<matplotlib.collections.PathCollection at 0x7f8cc1807890>"
      ]
     },
     "execution_count": 8,
     "metadata": {},
     "output_type": "execute_result"
    },
    {
     "data": {
      "image/png": "[encoded data removed]",
      "text/plain": [
       "<Figure size 432x288 with 1 Axes>"
      ]
     },
     "metadata": {
      "needs_background": "light"
     },
     "output_type": "display_data"
    }
   ],
   "source": [
    "# project and visualize tfidf embeddings\n",
    "umap_model = umap.UMAP(n_neighbors=9, n_components=2)\n",
    "tfidf_emb_umap_proj = umap_model.fit_transform(np.array(list(df['tfidf_emb'].dropna())))\n",
    "plt.scatter(tfidf_emb_umap_proj[:,0], tfidf_emb_umap_proj[:,1], alpha=0.05)"
   ]
  },
  {
   "cell_type": "markdown",
   "metadata": {
    "id": "2cVq3sIVs0Ak"
   },
   "source": [
    "**Conclusion**: tfidf embeddings look most seperated in 2d.\n",
    "\n",
    "Use tfidf for clustering first. also try BERT\n",
    "\n",
    "**Conclusion**: Cluster seperation is not superb in 2dembeddings.\n",
    "\n",
    "Perhaps try higher dimensional embedding for clustering if 2d is unsuccessful"
   ]
  },
  {
   "cell_type": "markdown",
   "metadata": {
    "id": "Z6dYnZoWwG4U"
   },
   "source": [
    "### cluster attempt 1\n",
    "\n",
    "Use HDBSCAN to cluster the UMAP-projected embedddings.  \n",
    "Start with 2d, try higher dimensional projections if cluster seperation is poor. "
   ]
  },
  {
   "cell_type": "code",
   "execution_count": null,
   "metadata": {
    "colab": {
     "base_uri": "https://localhost:8080/",
     "height": 421
    },
    "id": "JlNW5eQPQC-i",
    "outputId": "2509be77-e3a3-4bfa-ab60-1393486c08fd"
   },
   "outputs": [
    {
     "name": "stdout",
     "output_type": "stream",
     "text": [
      " 5    38118\n",
      " 4    12819\n",
      "-1     8284\n",
      " 0     5964\n",
      " 2     4362\n",
      " 1     4051\n",
      " 3     3197\n",
      "Name: label, dtype: int64\n"
     ]
    },
    {
     "data": {
      "text/plain": [
       "<matplotlib.collections.PathCollection at 0x7f8e06044310>"
      ]
     },
     "execution_count": 9,
     "metadata": {},
     "output_type": "execute_result"
    },
    {
     "data": {
      "image/png": "[encoded data removed]",
      "text/plain": [
       "<Figure size 432x288 with 1 Axes>"
      ]
     },
     "metadata": {
      "needs_background": "light"
     },
     "output_type": "display_data"
    }
   ],
   "source": [
    "#cluster from initial 2d tfidf embeddings\n",
    "clusterer = hdbscan.HDBSCAN(min_cluster_size=1000)\n",
    "clusterer.fit(tfidf_emb_umap_proj)\n",
    "df['label'] = clusterer.labels_\n",
    "\n",
    "#inspect cluster distribution\n",
    "print(df['label'].value_counts())\n",
    "\n",
    "#visualize clusters in 2d\n",
    "plt.scatter(tfidf_emb_umap_proj[:,0], tfidf_emb_umap_proj[:,1], c = list(df['label']), alpha=0.05)"
   ]
  },
  {
   "cell_type": "code",
   "execution_count": null,
   "metadata": {
    "colab": {
     "base_uri": "https://localhost:8080/",
     "height": 615
    },
    "id": "E8CWUbvATFFS",
    "outputId": "ba67a1c2-7655-4059-b891-6aa49552fa49"
   },
   "outputs": [
    {
     "data": {
      "text/html": [
       "\n",
       "  <div id=\"df-6687cb99-cb79-4f5b-8001-77e8ab17c47a\">\n",
       "    <div class=\"colab-df-container\">\n",
       "      <div>\n",
       "<style scoped>\n",
       "    .dataframe tbody tr th:only-of-type {\n",
       "        vertical-align: middle;\n",
       "    }\n",
       "\n",
       "    .dataframe tbody tr th {\n",
       "        vertical-align: top;\n",
       "    }\n",
       "\n",
       "    .dataframe thead th {\n",
       "        text-align: right;\n",
       "    }\n",
       "</style>\n",
       "<table border=\"1\" class=\"dataframe\">\n",
       "  <thead>\n",
       "    <tr style=\"text-align: right;\">\n",
       "      <th></th>\n",
       "      <th>narrative</th>\n",
       "      <th>label</th>\n",
       "    </tr>\n",
       "  </thead>\n",
       "  <tbody>\n",
       "    <tr>\n",
       "      <th>14439</th>\n",
       "      <td>while taxing for departure, the airplane's no. 12 tire on the right body landing gear contacted foreign object debris (fod), which resulted in a cut tire and loss of pressure.  an electronic message reflecting the loss of pressure in the no. 12 tire was displayed on the engine indicating and crew alerting system (eicas) in the cockpit; however, no further action was taken by the flight crew.  during the takeoff roll, the two aft tires, no. 11 (inboard) and 12 (outboard), on the right body landing gear (rblg) burst and their associated wheels fractured, which caused minor damage to the airplane.  the airplane returned back to the airport and landed uneventfully.  examination of the airplane's systems and wheel assemblies revealed no additional anomalies.</td>\n",
       "      <td>5</td>\n",
       "    </tr>\n",
       "    <tr>\n",
       "      <th>18194</th>\n",
       "      <td>when the airplane turned downwind, the engine lost power. the pilot attempted to restart the engine, and it surged suddenly. the torque caused the airplane to roll inverted. the pilot managed to roll the airplane upright, but was unable to restart the engine and he made a forced landing on airport property, striking the ground hard and substantially damaging the airplane. examination and tesing of the carburetor revealed the enrichment cover was leaking, and there  was \"a substantial leak\" at one of the vapor vent ports. one of the vapor vent floats was not functioning. when the vapor vent port was plugged, the carburetor tested between 7 and 22 pounds per hour above the rich limit.</td>\n",
       "      <td>5</td>\n",
       "    </tr>\n",
       "    <tr>\n",
       "      <th>28510</th>\n",
       "      <td>the pilot reported that she leaned the mixture prior to takeoff.  shortly after departure, during the climb, the pilot readjusted the mixture (aft) due to poor aircraft performance.  shortly after readjusting the mixture, the engine began to run rough and eventually quit.  the pilot initiated a forced landing to an open field near the airport.  during the landing roll, the aircraft's nose gear collapsed.  substantial damage was reported to the aircraft's left wing, left aileron and firewall.  the density altitude at nampa airport, during the same timeframe as the accident, was approximately 3,890 ft.</td>\n",
       "      <td>5</td>\n",
       "    </tr>\n",
       "    <tr>\n",
       "      <th>9979</th>\n",
       "      <td>the pilot reported that at 70 miles from his destination he determined that he would be landing closer to minimum fuel than he had planned. he continued to the destination and passed over one airport because it did not have any services. at 35 miles from the destination, the low fuel caution-warning for fuel tank 2 illuminated, followed by a low fuel caution-warning for fuel tank 1. the pilot thought that he would still land with some reserve and continued to fly to his destination airport. approximately 1 mile from the destination airport the helicopter experienced a dual engine flame-out.  the pilot autorotated to a sports field where the helicopter landed hard, sustaining damage to the main rotor blades, tail rotor, tail boom, and horizontal stabilizer. the pilot stated that the helicopter and engines had no mechanical failures or malfunctions during the flight.</td>\n",
       "      <td>5</td>\n",
       "    </tr>\n",
       "    <tr>\n",
       "      <th>72096</th>\n",
       "      <td>according to the surviving passenger, a boy, the pilot was flying the aircraft from the right seat. the aircraft was flown to the vicinity of the pilot's property where he made a pass over a farm belonging to a relative. the low pass was made near the operator of a combine who was harvesting grain in a field. during the pass, the aircraft collided with a power line, crashed and burned. the boy was the only occupant to escape from the plane.</td>\n",
       "      <td>5</td>\n",
       "    </tr>\n",
       "  </tbody>\n",
       "</table>\n",
       "</div>\n",
       "      <button class=\"colab-df-convert\" onclick=\"convertToInteractive('df-6687cb99-cb79-4f5b-8001-77e8ab17c47a')\"\n",
       "              title=\"Convert this dataframe to an interactive table.\"\n",
       "              style=\"display:none;\">\n",
       "        \n",
       "  <svg xmlns=\"http://www.w3.org/2000/svg\" height=\"24px\"viewBox=\"0 0 24 24\"\n",
       "       width=\"24px\">\n",
       "    <path d=\"M0 0h24v24H0V0z\" fill=\"none\"/>\n",
       "    <path d=\"M18.56 5.44l.94 2.06.94-2.06 2.06-.94-2.06-.94-.94-2.06-.94 2.06-2.06.94zm-11 1L8.5 8.5l.94-2.06 2.06-.94-2.06-.94L8.5 2.5l-.94 2.06-2.06.94zm10 10l.94 2.06.94-2.06 2.06-.94-2.06-.94-.94-2.06-.94 2.06-2.06.94z\"/><path d=\"M17.41 7.96l-1.37-1.37c-.4-.4-.92-.59-1.43-.59-.52 0-1.04.2-1.43.59L10.3 9.45l-7.72 7.72c-.78.78-.78 2.05 0 2.83L4 21.41c.39.39.9.59 1.41.59.51 0 1.02-.2 1.41-.59l7.78-7.78 2.81-2.81c.8-.78.8-2.07 0-2.86zM5.41 20L4 18.59l7.72-7.72 1.47 1.35L5.41 20z\"/>\n",
       "  </svg>\n",
       "      </button>\n",
       "      \n",
       "  <style>\n",
       "    .colab-df-container {\n",
       "      display:flex;\n",
       "      flex-wrap:wrap;\n",
       "      gap: 12px;\n",
       "    }\n",
       "\n",
       "    .colab-df-convert {\n",
       "      background-color: #E8F0FE;\n",
       "      border: none;\n",
       "      border-radius: 50%;\n",
       "      cursor: pointer;\n",
       "      display: none;\n",
       "      fill: #1967D2;\n",
       "      height: 32px;\n",
       "      padding: 0 0 0 0;\n",
       "      width: 32px;\n",
       "    }\n",
       "\n",
       "    .colab-df-convert:hover {\n",
       "      background-color: #E2EBFA;\n",
       "      box-shadow: 0px 1px 2px rgba(60, 64, 67, 0.3), 0px 1px 3px 1px rgba(60, 64, 67, 0.15);\n",
       "      fill: #174EA6;\n",
       "    }\n",
       "\n",
       "    [theme=dark] .colab-df-convert {\n",
       "      background-color: #3B4455;\n",
       "      fill: #D2E3FC;\n",
       "    }\n",
       "\n",
       "    [theme=dark] .colab-df-convert:hover {\n",
       "      background-color: #434B5C;\n",
       "      box-shadow: 0px 1px 3px 1px rgba(0, 0, 0, 0.15);\n",
       "      filter: drop-shadow(0px 1px 2px rgba(0, 0, 0, 0.3));\n",
       "      fill: #FFFFFF;\n",
       "    }\n",
       "  </style>\n",
       "\n",
       "      <script>\n",
       "        const buttonEl =\n",
       "          document.querySelector('#df-6687cb99-cb79-4f5b-8001-77e8ab17c47a button.colab-df-convert');\n",
       "        buttonEl.style.display =\n",
       "          google.colab.kernel.accessAllowed ? 'block' : 'none';\n",
       "\n",
       "        async function convertToInteractive(key) {\n",
       "          const element = document.querySelector('#df-6687cb99-cb79-4f5b-8001-77e8ab17c47a');\n",
       "          const dataTable =\n",
       "            await google.colab.kernel.invokeFunction('convertToInteractive',\n",
       "                                                     [key], {});\n",
       "          if (!dataTable) return;\n",
       "\n",
       "          const docLinkHtml = 'Like what you see? Visit the ' +\n",
       "            '<a target=\"_blank\" href=https://colab.research.google.com/notebooks/data_table.ipynb>data table notebook</a>'\n",
       "            + ' to learn more about interactive tables.';\n",
       "          element.innerHTML = '';\n",
       "          dataTable['output_type'] = 'display_data';\n",
       "          await google.colab.output.renderOutput(dataTable, element);\n",
       "          const docLink = document.createElement('div');\n",
       "          docLink.innerHTML = docLinkHtml;\n",
       "          element.appendChild(docLink);\n",
       "        }\n",
       "      </script>\n",
       "    </div>\n",
       "  </div>\n",
       "  "
      ],
      "text/plain": [
       "                                                                                                                                                                                                                                                                                                                                                                                                                                                                                                                                                                                                                                                                                                                                                                                                                                                                                                           narrative  label\n",
       "14439                                                                                                                while taxing for departure, the airplane's no. 12 tire on the right body landing gear contacted foreign object debris (fod), which resulted in a cut tire and loss of pressure.  an electronic message reflecting the loss of pressure in the no. 12 tire was displayed on the engine indicating and crew alerting system (eicas) in the cockpit; however, no further action was taken by the flight crew.  during the takeoff roll, the two aft tires, no. 11 (inboard) and 12 (outboard), on the right body landing gear (rblg) burst and their associated wheels fractured, which caused minor damage to the airplane.  the airplane returned back to the airport and landed uneventfully.  examination of the airplane's systems and wheel assemblies revealed no additional anomalies.          5\n",
       "18194                                                                                                                                                                                            when the airplane turned downwind, the engine lost power. the pilot attempted to restart the engine, and it surged suddenly. the torque caused the airplane to roll inverted. the pilot managed to roll the airplane upright, but was unable to restart the engine and he made a forced landing on airport property, striking the ground hard and substantially damaging the airplane. examination and tesing of the carburetor revealed the enrichment cover was leaking, and there  was \"a substantial leak\" at one of the vapor vent ports. one of the vapor vent floats was not functioning. when the vapor vent port was plugged, the carburetor tested between 7 and 22 pounds per hour above the rich limit.      5\n",
       "28510                                                                                                                                                                                                                                                                               the pilot reported that she leaned the mixture prior to takeoff.  shortly after departure, during the climb, the pilot readjusted the mixture (aft) due to poor aircraft performance.  shortly after readjusting the mixture, the engine began to run rough and eventually quit.  the pilot initiated a forced landing to an open field near the airport.  during the landing roll, the aircraft's nose gear collapsed.  substantial damage was reported to the aircraft's left wing, left aileron and firewall.  the density altitude at nampa airport, during the same timeframe as the accident, was approximately 3,890 ft.       5\n",
       "9979   the pilot reported that at 70 miles from his destination he determined that he would be landing closer to minimum fuel than he had planned. he continued to the destination and passed over one airport because it did not have any services. at 35 miles from the destination, the low fuel caution-warning for fuel tank 2 illuminated, followed by a low fuel caution-warning for fuel tank 1. the pilot thought that he would still land with some reserve and continued to fly to his destination airport. approximately 1 mile from the destination airport the helicopter experienced a dual engine flame-out.  the pilot autorotated to a sports field where the helicopter landed hard, sustaining damage to the main rotor blades, tail rotor, tail boom, and horizontal stabilizer. the pilot stated that the helicopter and engines had no mechanical failures or malfunctions during the flight.      5\n",
       "72096                                                                                                                                                                                                                                                                                                                                                                                                                                                  according to the surviving passenger, a boy, the pilot was flying the aircraft from the right seat. the aircraft was flown to the vicinity of the pilot's property where he made a pass over a farm belonging to a relative. the low pass was made near the operator of a combine who was harvesting grain in a field. during the pass, the aircraft collided with a power line, crashed and burned. the boy was the only occupant to escape from the plane.       5"
      ]
     },
     "execution_count": 11,
     "metadata": {},
     "output_type": "execute_result"
    }
   ],
   "source": [
    "#inspect categories\n",
    "cluster_to_inspect = 0\n",
    "pd.options.display.max_colwidth = 1000\n",
    "df[['narrative','label']][df['label']==cluster_to_inspect].sample(5)"
   ]
  },
  {
   "cell_type": "markdown",
   "metadata": {
    "id": "ng416JrpuaNO"
   },
   "source": [
    "**Conlusion**: tfidf yeilds clear geometric seperation, but clusters dont seem useful in terms of text content. \n",
    "\n",
    "Try BERT, may yeild better results than tfidf. "
   ]
  },
  {
   "cell_type": "markdown",
   "metadata": {
    "id": "M1zzBgKmwLlR"
   },
   "source": [
    "### Cluster attempt 2\n",
    "\n",
    "Try BERT embeddings. "
   ]
  },
  {
   "cell_type": "code",
   "execution_count": 22,
   "metadata": {
    "colab": {
     "base_uri": "https://localhost:8080/",
     "height": 473
    },
    "id": "0UEEgx8sWhoJ",
    "outputId": "9a9d9fe5-540d-489c-8290-b6165b5f896c"
   },
   "outputs": [
    {
     "name": "stdout",
     "output_type": "stream",
     "text": [
      " 7    57574\n",
      " 8     5394\n",
      " 5     5284\n",
      " 3     2862\n",
      "-1     2095\n",
      " 4     1177\n",
      " 2     1089\n",
      " 0      595\n",
      " 1      394\n",
      " 6      331\n",
      "Name: label, dtype: int64\n"
     ]
    },
    {
     "data": {
      "text/plain": [
       "<matplotlib.collections.PathCollection at 0x7f8cbfaaded0>"
      ]
     },
     "execution_count": 22,
     "metadata": {},
     "output_type": "execute_result"
    },
    {
     "data": {
      "image/png": "[encoded data removed]",
      "text/plain": [
       "<Figure size 432x288 with 1 Axes>"
      ]
     },
     "metadata": {
      "needs_background": "light"
     },
     "output_type": "display_data"
    }
   ],
   "source": [
    "#cluster from initial 2d bert embeddings\n",
    "clusterer = hdbscan.HDBSCAN(min_cluster_size=250)\n",
    "clusterer.fit(bert_emb_umap_proj)\n",
    "df['label'] = clusterer.labels_\n",
    "\n",
    "#inspect cluster distribution\n",
    "print(df['label'].value_counts())\n",
    "\n",
    "#visualize clusters in 2d\n",
    "plt.scatter(bert_emb_umap_proj[:,0], bert_emb_umap_proj[:,1], c = list(df['label']), alpha=0.05)"
   ]
  },
  {
   "cell_type": "code",
   "execution_count": null,
   "metadata": {
    "colab": {
     "base_uri": "https://localhost:8080/",
     "height": 563
    },
    "id": "DoBLc9m7suTw",
    "outputId": "2de55185-b98d-4c26-f7de-26fe1c83fba3"
   },
   "outputs": [],
   "source": [
    "#inspect categories\n",
    "cluster_to_inspect = 8\n",
    "pd.options.display.max_colwidth = 1000\n",
    "df[['narrative','label']][df['label']==cluster_to_inspect].sample(5)"
   ]
  },
  {
   "cell_type": "markdown",
   "metadata": {
    "id": "7orvuLLjzKDx"
   },
   "source": [
    "cluster descriptions from clustering attempt two:\n",
    "\n",
    "0. hot air balloon accidents \n",
    "1. empty string narratives (should have filtered out. oops.)\n",
    "2. reports featuring descriptions of injuries and aircraft ownership. probably insurance reports.\n",
    "3. reports with many proper nouns, especially location names\n",
    "4. glider accidents\n",
    "5. helicopter accidents\n",
    "6. extreme weather incidents\n",
    "7. pilot error\n",
    "8. student pilot accidents"
   ]
  },
  {
   "cell_type": "markdown",
   "metadata": {
    "id": "cqhXHUsVdya2"
   },
   "source": [
    "Conclusion: (BERT + UMAP + HDBSCAN) has clustered the text into meaninful categories. However, the categories do not deal primarily with probable causes of the accidents, except for categories 6,7,8."
   ]
  },
  {
   "cell_type": "markdown",
   "metadata": {
    "id": "sSqyVWJQeLiK"
   },
   "source": [
    "# Final visualization"
   ]
  },
  {
   "cell_type": "code",
   "execution_count": 138,
   "metadata": {
    "id": "QixSvSq7ePWK"
   },
   "outputs": [],
   "source": [
    "from matplotlib.lines import Line2D"
   ]
  },
  {
   "cell_type": "code",
   "execution_count": 163,
   "metadata": {
    "id": "EBq2cHscsNx0"
   },
   "outputs": [],
   "source": [
    "cluster_names = {\n",
    "                 0:'hot air balloon accidents',\n",
    "                 1: 'no narrative given', \n",
    "                 2: 'insurance reports',\n",
    "                 3: 'accidents in foreign airspace',\n",
    "                 4: 'glider accidents',\n",
    "                 5: 'helicopter accidents',\n",
    "                 6: 'extreme weather incidents',\n",
    "                 7: 'pilot error',\n",
    "                 8: 'student pilot accidents',\n",
    "                 -1:'unclustered'\n",
    "}"
   ]
  },
  {
   "cell_type": "code",
   "execution_count": 164,
   "metadata": {
    "id": "rSEpLZsTgauG"
   },
   "outputs": [],
   "source": [
    "# reformat plotting data for conveneience\n",
    "x = bert_emb_umap_proj[:,0]\n",
    "y = bert_emb_umap_proj[:,1]\n",
    "labels = list(df['label'])\n",
    "names = [cluster_names[c] for c in labels]\n",
    "\n",
    "plot_data = pd.DataFrame(zip(x, y, labels, names), columns = ['x','y','label', 'name'])\n",
    "# plot_data = plot_data[plot_data['label']!=1] #drop empty string cluster."
   ]
  },
  {
   "cell_type": "code",
   "execution_count": 165,
   "metadata": {
    "colab": {
     "base_uri": "https://localhost:8080/"
    },
    "id": "FJumCl6tj-Fn",
    "outputId": "aa6f2082-c3b6-43d5-9970-af2f8b426756"
   },
   "outputs": [
    {
     "data": {
      "text/plain": [
       "0    57574\n",
       "1     5394\n",
       "2     5284\n",
       "3     2862\n",
       "9     2095\n",
       "4     1177\n",
       "5     1089\n",
       "6      595\n",
       "7      394\n",
       "8      331\n",
       "Name: label, dtype: int64"
      ]
     },
     "execution_count": 165,
     "metadata": {},
     "output_type": "execute_result"
    }
   ],
   "source": [
    "#reorder cluster labels by cluster size, and put unclustered data last\n",
    "cluster_rename_map = dict(zip(list(plot_data[plot_data['label']!=-1]['label'].value_counts().index), range(0,100)))\n",
    "cluster_rename_map[-1] = len(cluster_rename_map)\n",
    "plot_data['label'] = plot_data['label'].apply(lambda x: cluster_rename_map[x] if x in cluster_rename_map else x)\n",
    "plot_data['label'].value_counts()"
   ]
  },
  {
   "cell_type": "code",
   "execution_count": 166,
   "metadata": {
    "id": "dtKCyE_qmaBF"
   },
   "outputs": [],
   "source": [
    "plot_data = plot_data.sort_values('label')"
   ]
  },
  {
   "cell_type": "code",
   "execution_count": 167,
   "metadata": {
    "colab": {
     "base_uri": "https://localhost:8080/",
     "height": 85
    },
    "id": "JA_Y8GWjjWG0",
    "outputId": "666e5c1e-f686-4645-aa5a-fa4d7bb524b8"
   },
   "outputs": [
    {
     "data": {
      "image/png": "[encoded data removed]",
      "text/plain": [
       "<Figure size 720x72 with 1 Axes>"
      ]
     },
     "metadata": {},
     "output_type": "display_data"
    }
   ],
   "source": [
    "#set font size of labels on matplotlib plots\n",
    "plt.rc('font', size=16)\n",
    "\n",
    "#set style of plots\n",
    "sns.set_style('white')\n",
    "\n",
    "#define a color palette. a reodered tab10 palette. put grey last for null cluster\n",
    "customPalette = ['#1f77b4', '#ff7f0e', '#2ca02c', '#d62728', '#9467bd', '#8c564b', '#e377c2', '#bcbd22','#17becf','#7f7f7f']\n",
    "sns.set_palette(customPalette)\n",
    "sns.palplot(customPalette)"
   ]
  },
  {
   "cell_type": "code",
   "execution_count": 169,
   "metadata": {
    "colab": {
     "base_uri": "https://localhost:8080/",
     "height": 346
    },
    "id": "B27tyFjVh3kk",
    "outputId": "89e7933c-3969-4db9-bed0-1f3cf521bd91"
   },
   "outputs": [
    {
     "data": {
      "image/png": "[encoded data removed]",
      "text/plain": [
       "<Figure size 360x360 with 1 Axes>"
      ]
     },
     "metadata": {},
     "output_type": "display_data"
    }
   ],
   "source": [
    "#create a new figure\n",
    "plt.figure(figsize=(5,5))\n",
    "\n",
    "#loop through labels and plot each cluster\n",
    "legend_elements = list()\n",
    "for i, label in enumerate(plot_data['label'].unique()):\n",
    "\n",
    "    #add data points \n",
    "    plt.scatter(x=plot_data.loc[plot_data['label']==label,'x'], \n",
    "                y=plot_data.loc[plot_data['label']==label,'y'], \n",
    "                color=customPalette[i], \n",
    "                alpha=0.20)\n",
    "    \n",
    "    #add label\n",
    "    if label != len(plot_data['label'].unique())-1: #for all clusters, plot\n",
    "      plt.annotate(label, \n",
    "                  plot_data.loc[plot_data['label']==label,['x','y']].mean(),\n",
    "                  horizontalalignment='center',\n",
    "                  verticalalignment='center',\n",
    "                  size=20, weight='bold',\n",
    "                  color='k') \n",
    "      \n",
    "    #make legend element\n",
    "    cluster_name = list(plot_data.loc[plot_data['label']==label,'name'])[0] #get name\n",
    "    cluster_name = cluster_name.title() #make name title case\n",
    "    legend_elements.append(Line2D([0], [0], marker='o', \n",
    "                                  color='w', label=cluster_name,\n",
    "                                  markerfacecolor=customPalette[i], \n",
    "                                  markersize=10))\n",
    "      \n",
    "#hide tick labels\n",
    "plt.xticks(color='w')\n",
    "plt.yticks(color='w')\n",
    "\n",
    "#create legend\n",
    "plt.legend(handles = legend_elements, bbox_to_anchor=(1.05, 1.0))\n",
    "plt.title('Aviation Accident Narrative Clusters')\n",
    "\n",
    "plt.show()"
   ]
  }
 ],
 "metadata": {
  "colab": {
   "collapsed_sections": [],
   "name": "RTI_exercise.ipynb",
   "provenance": []
  },
  "kernelspec": {
   "display_name": "Python 3 (ipykernel)",
   "language": "python",
   "name": "python3"
  },
  "language_info": {
   "codemirror_mode": {
    "name": "ipython",
    "version": 3
   },
   "file_extension": ".py",
   "mimetype": "text/x-python",
   "name": "python",
   "nbconvert_exporter": "python",
   "pygments_lexer": "ipython3",
   "version": "3.8.9"
  }
 },
 "nbformat": 4,
 "nbformat_minor": 1
}
